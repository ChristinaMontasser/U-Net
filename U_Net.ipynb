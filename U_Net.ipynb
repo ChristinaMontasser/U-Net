{
  "nbformat": 4,
  "nbformat_minor": 0,
  "metadata": {
    "colab": {
      "provenance": []
    },
    "kernelspec": {
      "name": "python3",
      "display_name": "Python 3"
    },
    "language_info": {
      "name": "python"
    },
    "accelerator": "GPU",
    "gpuClass": "standard"
  },
  "cells": [
    {
      "cell_type": "code",
      "source": [
        "!pip install pycocotools fiftyone"
      ],
      "metadata": {
        "id": "zasyMyfcwv1x"
      },
      "execution_count": null,
      "outputs": []
    },
    {
      "cell_type": "code",
      "source": [
        "!wget 'http://images.cocodataset.org/annotations/annotations_trainval2017.zip'  -O annotation.zip\n",
        "!unzip '/content/annotation.zip'"
      ],
      "metadata": {
        "id": "qF6nKme6hAMB"
      },
      "execution_count": null,
      "outputs": []
    },
    {
      "cell_type": "code",
      "source": [
        "import fiftyone.zoo as foz\n",
        "from torch.nn import ConvTranspose2d\n",
        "from torch.nn import Conv2d\n",
        "from torch.nn import MaxPool2d\n",
        "from torch.nn import Module\n",
        "from torch.nn import ModuleList\n",
        "from torch.nn import ReLU\n",
        "from torchvision.transforms import CenterCrop\n",
        "from torch.nn import functional as F\n",
        "from torch import nn\n",
        "import torch\n",
        "from PIL import Image\n",
        "import cv2\n",
        "import io\n",
        "import numpy as np\n",
        "import base64"
      ],
      "metadata": {
        "id": "1lV_UT5rF3Cr"
      },
      "execution_count": null,
      "outputs": []
    },
    {
      "cell_type": "code",
      "source": [
        "# To download the COCO dataset for only the \"person\" and \"car\" classes\n",
        "dataset = foz.load_zoo_dataset(\n",
        "    \"coco-2017\",\n",
        "    splits=[\"train\", \"validation\", \"test\"],\n",
        "    label_types=[\"segmentations\"],\n",
        "    classes=[\"car\"],\n",
        "    max_samples=1000,\n",
        "    # shuffle=True,\n",
        ")"
      ],
      "metadata": {
        "id": "IamaX5I3yXWw"
      },
      "execution_count": null,
      "outputs": []
    },
    {
      "cell_type": "code",
      "source": [
        "dict_dataset = dataset.to_dict()\n",
        "dict_dataset.keys()"
      ],
      "metadata": {
        "colab": {
          "base_uri": "https://localhost:8080/"
        },
        "id": "bWlT4-8nRTpG",
        "outputId": "5cc0406c-d242-469b-986f-d21ecf99f32c"
      },
      "execution_count": null,
      "outputs": [
        {
          "output_type": "stream",
          "name": "stdout",
          "text": [
            " 100% |███████████████| 2535/2535 [26.6s elapsed, 0s remaining, 1.2K samples/s]       \n"
          ]
        },
        {
          "output_type": "stream",
          "name": "stderr",
          "text": [
            "INFO:eta.core.utils: 100% |███████████████| 2535/2535 [26.6s elapsed, 0s remaining, 1.2K samples/s]       \n"
          ]
        },
        {
          "output_type": "execute_result",
          "data": {
            "text/plain": [
              "dict_keys(['name', 'version', 'media_type', 'sample_fields', 'info', 'default_classes', 'samples'])"
            ]
          },
          "metadata": {},
          "execution_count": 3
        }
      ]
    },
    {
      "cell_type": "code",
      "source": [
        "dict_dataset[\"samples\"][0]"
      ],
      "metadata": {
        "id": "IkLXHTIIeY1N"
      },
      "execution_count": null,
      "outputs": []
    },
    {
      "cell_type": "code",
      "source": [
        "from pycocotools.coco import COCO\n",
        "\n",
        "train_anns = COCO(\"/content/annotations/instances_train2017.json\")\n"
      ],
      "metadata": {
        "colab": {
          "base_uri": "https://localhost:8080/"
        },
        "id": "Bwcjk2OGcT58",
        "outputId": "65718bda-96f1-45fc-ba24-bd172b089c34"
      },
      "execution_count": null,
      "outputs": [
        {
          "output_type": "stream",
          "name": "stdout",
          "text": [
            "loading annotations into memory...\n",
            "Done (t=18.40s)\n",
            "creating index...\n",
            "index created!\n"
          ]
        }
      ]
    },
    {
      "cell_type": "code",
      "source": [
        "np.zeros((128,128)).shape"
      ],
      "metadata": {
        "colab": {
          "base_uri": "https://localhost:8080/"
        },
        "id": "sK0YkQmBGJd6",
        "outputId": "bec980b2-512c-4dae-b969-cdcd854e55c8"
      },
      "execution_count": null,
      "outputs": [
        {
          "output_type": "execute_result",
          "data": {
            "text/plain": [
              "(128, 128)"
            ]
          },
          "metadata": {},
          "execution_count": 16
        }
      ]
    },
    {
      "cell_type": "code",
      "source": [
        "class SegDataset(torch.utils.data.Dataset):\n",
        "\n",
        "  def __init__(self, annotations, samples):\n",
        "    # super(SegDataset , self)\n",
        "    self.annotations = annotations\n",
        "    self.image_path = []\n",
        "    self.images = []\n",
        "    self.image_masks= []\n",
        "    for s in samples :\n",
        "      resized = cv2.resize(cv2.imread(s[\"filepath\"]), (128, 128))\n",
        "      image_id = int(s[\"filepath\"].split(\"/\")[-1].split(\".\")[0])\n",
        "      anns = annotations.getAnnIds(imgIds=[image_id])\n",
        "      anns = annotations.loadAnns(anns)\n",
        "      masks = [cv2.resize(annotations.annToMask(ann), (128,128))  for ann in anns if ann[\"category_id\"] == 3]\n",
        "      mask = np.clip(sum(masks),0, 1)\n",
        "      if len(mask.shape) != 2: continue\n",
        "      if len(resized.shape) != 3 : continue\n",
        "      self.images.append(resized/ 255)\n",
        "      self.image_path.append(s[\"filepath\"])\n",
        "      self.image_masks.append(mask)\n",
        "\n",
        "  def __getitem__(self, idx):\n",
        "    return {\"image\": torch.tensor(self.images[idx]), \"mask\": torch.tensor(self.image_masks[idx])}    \n",
        "\n",
        "  def __len__(self,):\n",
        "    return len(self.images)\n",
        "\n",
        "\n",
        "torch_dataset = SegDataset(train_anns, dict_dataset[\"samples\"])"
      ],
      "metadata": {
        "id": "c4l64AWGlngI"
      },
      "execution_count": null,
      "outputs": []
    },
    {
      "cell_type": "code",
      "source": [
        "from google.colab.patches import cv2_imshow\n",
        "cv2_imshow(torch_dataset[25][\"image\"].numpy()*255)\n",
        "cv2_imshow(torch_dataset[25][\"mask\"].numpy()*255)\n"
      ],
      "metadata": {
        "colab": {
          "base_uri": "https://localhost:8080/",
          "height": 273
        },
        "id": "lko_ijKpjLy7",
        "outputId": "7dc3314f-0ff6-4fe2-bfd1-295188243bc8"
      },
      "execution_count": null,
      "outputs": [
        {
          "output_type": "display_data",
          "data": {
            "text/plain": [
              "<PIL.Image.Image image mode=RGB size=128x128 at 0x7EFDDD9ECEE0>"
            ],
            "image/png": "[encoded data removed]"
          },
          "metadata": {}
        },
        {
          "output_type": "display_data",
          "data": {
            "text/plain": [
              "<PIL.Image.Image image mode=L size=128x128 at 0x7EFDD8058BB0>"
            ],
            "image/png": "[encoded data removed]"
          },
          "metadata": {}
        }
      ]
    },
    {
      "cell_type": "code",
      "source": [
        "cv2_imshow(torch_dataset[60][\"image\"].numpy()*255)\n",
        "cv2_imshow(torch_dataset[60][\"mask\"].numpy()*255)"
      ],
      "metadata": {
        "colab": {
          "base_uri": "https://localhost:8080/",
          "height": 273
        },
        "id": "RxT3LMwxrsZ1",
        "outputId": "9d43b0b2-6c11-4bc9-812e-3c12eceb208e"
      },
      "execution_count": null,
      "outputs": [
        {
          "output_type": "display_data",
          "data": {
            "text/plain": [
              "<PIL.Image.Image image mode=RGB size=128x128 at 0x7EFDDC327D30>"
            ],
            "image/png": "[encoded data removed]"
          },
          "metadata": {}
        },
        {
          "output_type": "display_data",
          "data": {
            "text/plain": [
              "<PIL.Image.Image image mode=L size=128x128 at 0x7EFDDC327DC0>"
            ],
            "image/png": "[encoded data removed]"
          },
          "metadata": {}
        }
      ]
    },
    {
      "cell_type": "markdown",
      "source": [
        "U-Net Model Implementation using Pytorch"
      ],
      "metadata": {
        "id": "HkU0Pxx4FyK1"
      }
    },
    {
      "cell_type": "code",
      "source": [
        "class U_Net(Module):\n",
        "  def __init__(self):\n",
        "    super(U_Net, self).__init__()\n",
        "    self.encoders_in_channels = [[3, 64, 128, 256, 512], [64, 128, 256, 512, 1024]]\n",
        "    self.encoders_out_channels = [64, 128, 256, 512, 1024]\n",
        "    self.encoders = ModuleList()\n",
        "\n",
        "    self.decoders_in_channels = [[1024+512, 512+256, 256+128, 128+64], [512, 256, 128, 64]]\n",
        "    self.decoders_out_channels = [512, 256, 128, 64]\n",
        "    self.decoders = ModuleList()\n",
        "    #Encoder Blocks\n",
        "    for i in range(5):\n",
        "      temp = nn.Sequential(\n",
        "                        nn.Conv2d(in_channels = self.encoders_in_channels[0][i], #128*128*3\n",
        "                                        out_channels = self.encoders_out_channels[i], \n",
        "                                        kernel_size = (3, 3),\n",
        "                                        stride = (1, 1),\n",
        "                                        padding = 1\n",
        "                                        ),\n",
        "                        nn.ReLU(),\n",
        "                        nn.Conv2d(in_channels = self.encoders_in_channels[1][i], #128*128*3\n",
        "                                        out_channels=self.encoders_out_channels[i], \n",
        "                                        kernel_size = (3, 3),\n",
        "                                        stride = (1, 1),\n",
        "                                        padding = 1\n",
        "                                        ),\n",
        "                        nn.ReLU())\n",
        "      # if i == 2:\n",
        "      temp.add_module(\"maxpool_1\", nn.MaxPool2d(kernel_size=2))\n",
        "\n",
        "      self.encoders.append(temp)\n",
        "\n",
        "    self.upsample_1 = nn.Upsample(scale_factor=2)\n",
        "    # Decoder Blocks\n",
        "    for i in range(4):\n",
        "      temp = nn.Sequential(\n",
        "                        nn.Upsample(scale_factor=2), #8 --> 16\n",
        "                        nn.Conv2d(in_channels = self.decoders_in_channels[0][i], \n",
        "                                        out_channels=self.decoders_out_channels[i], \n",
        "                                        kernel_size = (3, 3),\n",
        "                                        stride = (1, 1),\n",
        "                                        padding = 1\n",
        "                                        ),\n",
        "                         nn.Conv2d(in_channels = self.decoders_in_channels[1][i], \n",
        "                                        out_channels=self.decoders_out_channels[i], \n",
        "                                        kernel_size = (3, 3),\n",
        "                                        stride = (1, 1),\n",
        "                                        padding = 1\n",
        "                                        ),\n",
        "                        nn.ReLU(),)\n",
        "\n",
        "      self.decoders.append(temp)\n",
        "    \n",
        "\n",
        "    #Output segmentation map\n",
        "    self.final = nn.Conv2d(in_channels = 64, \n",
        "                                        out_channels= 1, \n",
        "                                        kernel_size = (1, 1),\n",
        "                                        stride = (1, 1),\n",
        "                                        padding = 1 \n",
        "                                    \n",
        "    )\n",
        "\n",
        "  def encoder(self, data):\n",
        "    encoded = [] \n",
        "    encoded.append(self.encoders[0](data))\n",
        "    for i in range(1, len(self.encoders)):\n",
        "      temp = self.encoders[i](encoded[i - 1])\n",
        "      encoded.append(temp)\n",
        "    return encoded\n",
        "\n",
        "  def decoder(self, encoded, ends):\n",
        "    # print(encoded[4].shape, ends[3].shape)\n",
        "    x = self.upsample_1(encoded[4])\n",
        "    y_1 = self.decoders[0](torch.cat((x , ends[3]), axis=1))\n",
        "    # print(y_1.shape, ends[2].shape)\n",
        "    y_2 = self.decoders[1](torch.cat((y_1 , ends[2]), axis=1))\n",
        "    y_3 = self.decoders[2](torch.cat((y_2 , ends[1]), axis=1))\n",
        "    decoded = self.decoders[3](torch.cat((y_3 , ends[0]), axis=1))\n",
        "    return decoded\n",
        "\n",
        "  def forward(self, data):   \n",
        "    encoded = self.encoder(data)\n",
        "    # for e in encoded:\n",
        "      # print(e.shape)\n",
        "    decoded = self.decoder(encoded, [encoded[0], encoded[1], encoded[2], encoded[3]])\n",
        "    output = self.final(decoded)\n",
        "    output = torch.sigmoid(output)\n",
        "    return output"
      ],
      "metadata": {
        "id": "pD9mB2YpDva2"
      },
      "execution_count": null,
      "outputs": []
    },
    {
      "cell_type": "code",
      "source": [
        "# class Block(nn.Module):\n",
        "#     def __init__(self, in_ch, out_ch):\n",
        "#         super().__init__()\n",
        "#         self.conv1 = nn.Conv2d(in_ch, out_ch, 3)\n",
        "#         self.relu  = nn.ReLU()\n",
        "#         self.conv2 = nn.Conv2d(out_ch, out_ch, 3)\n",
        "    \n",
        "#     def forward(self, x):\n",
        "#         return self.conv2(self.relu(self.conv1(x)))\n",
        "\n",
        "\n",
        "# class Encoder(nn.Module):\n",
        "#     def __init__(self, chs=(3,64,128,256,512,1024)):\n",
        "#         super().__init__()\n",
        "#         self.enc_blocks = nn.ModuleList([Block(chs[i], chs[i+1]) for i in range(len(chs)-1)])\n",
        "#         self.pool       = nn.MaxPool2d(2)\n",
        "    \n",
        "#     def forward(self, x):\n",
        "#         ftrs = []\n",
        "#         for block in self.enc_blocks:\n",
        "#             x = block(x)\n",
        "#             ftrs.append(x)\n",
        "#             x = self.pool(x)\n",
        "#         return ftrs\n",
        "\n",
        "\n",
        "# class Decoder(nn.Module):\n",
        "#     def __init__(self, chs=(1024, 512, 256, 128, 64)):\n",
        "#         super().__init__()\n",
        "#         self.chs         = chs\n",
        "#         self.upconvs    = nn.ModuleList([nn.ConvTranspose2d(chs[i], chs[i+1], 2, 2) for i in range(len(chs)-1)])\n",
        "#         self.dec_blocks = nn.ModuleList([Block(chs[i], chs[i+1]) for i in range(len(chs)-1)]) \n",
        "        \n",
        "#     def forward(self, x, encoder_features):\n",
        "#         for i in range(len(self.chs)-1):\n",
        "#             x        = self.upconvs[i](x)\n",
        "#             enc_ftrs = self.crop(encoder_features[i], x)\n",
        "#             x        = torch.cat([x, enc_ftrs], dim=1)\n",
        "#             x        = self.dec_blocks[i](x)\n",
        "#         return x\n",
        "    \n",
        "#     def crop(self, enc_ftrs, x):\n",
        "#         _, _, H, W = x.shape\n",
        "#         enc_ftrs   = torchvision.transforms.CenterCrop([H, W])(enc_ftrs)\n",
        "#         return enc_ftrs\n",
        "\n",
        "\n",
        "# class UNet(nn.Module):\n",
        "#     def __init__(self, enc_chs=(3,64,128,256), dec_chs=(256, 128, 64), num_class=1, retain_dim=True, out_sz=(128,128)):\n",
        "#         super().__init__()\n",
        "#         self.encoder     = Encoder(enc_chs)\n",
        "#         self.decoder     = Decoder(dec_chs)\n",
        "#         self.head        = nn.Conv2d(dec_chs[-1], num_class, 1)\n",
        "#         self.retain_dim  = retain_dim\n",
        "#         self.out_sz = out_sz\n",
        "#     def forward(self, x):\n",
        "#         enc_ftrs = self.encoder(x)\n",
        "#         out      = self.decoder(enc_ftrs[::-1][0], enc_ftrs[::-1][1:])\n",
        "#         out      = self.head(out)\n",
        "#         if self.retain_dim:\n",
        "#             out = F.interpolate(out, self.out_sz)\n",
        "#         return out"
      ],
      "metadata": {
        "id": "wxjt7Gzh-DrS"
      },
      "execution_count": null,
      "outputs": []
    },
    {
      "cell_type": "code",
      "source": [
        "# import torchvision\n",
        "# unet = UNet()\n",
        "# unet(torch_dataset[0][\"image\"].unsqueeze(0).float().permute(0, 3,1,2)).shape"
      ],
      "metadata": {
        "colab": {
          "base_uri": "https://localhost:8080/"
        },
        "id": "Ln_b7ZIu-fJ9",
        "outputId": "d53363b2-91af-41de-885f-9fa2ede441b8"
      },
      "execution_count": null,
      "outputs": [
        {
          "output_type": "execute_result",
          "data": {
            "text/plain": [
              "torch.Size([1, 1, 128, 128])"
            ]
          },
          "metadata": {},
          "execution_count": 228
        }
      ]
    },
    {
      "cell_type": "code",
      "source": [
        "model = U_Net()\n",
        "model(torch_dataset[0][\"image\"].unsqueeze(0).float().permute(0, 3,1,2))\n"
      ],
      "metadata": {
        "id": "vEOpigpBO2Mk",
        "colab": {
          "base_uri": "https://localhost:8080/"
        },
        "outputId": "a390c74a-2c58-4e7d-84dd-a5be6f5b44ce"
      },
      "execution_count": null,
      "outputs": [
        {
          "output_type": "execute_result",
          "data": {
            "text/plain": [
              "tensor([[[[0.4983, 0.4983, 0.4983,  ..., 0.4983, 0.4983, 0.4983],\n",
              "          [0.4983, 0.4942, 0.4939,  ..., 0.4957, 0.4944, 0.4983],\n",
              "          [0.4983, 0.4945, 0.4941,  ..., 0.4951, 0.4940, 0.4983],\n",
              "          ...,\n",
              "          [0.4983, 0.4946, 0.4939,  ..., 0.4930, 0.4935, 0.4983],\n",
              "          [0.4983, 0.4956, 0.4954,  ..., 0.4948, 0.4945, 0.4983],\n",
              "          [0.4983, 0.4983, 0.4983,  ..., 0.4983, 0.4983, 0.4983]]]],\n",
              "       grad_fn=<SigmoidBackward0>)"
            ]
          },
          "metadata": {},
          "execution_count": 9
        }
      ]
    },
    {
      "cell_type": "code",
      "source": [
        "# data_loader = torch.utils.data.DataLoader(torch_dataset, batch_size=1)\n",
        "# for idx, batch  in enumerate(data_loader):\n",
        "#   break"
      ],
      "metadata": {
        "id": "FhUEJQut8yCw"
      },
      "execution_count": null,
      "outputs": []
    },
    {
      "cell_type": "code",
      "source": [
        "model.cuda()\n",
        "optimizer = torch.optim.AdamW(model.parameters(), lr = 0.001)\n",
        "data_loader = torch.utils.data.DataLoader(torch_dataset, batch_size=16)\n",
        "# torch.backends.cudnn.enabled = False\n",
        "for e in range(10):\n",
        "  for idx, batch  in enumerate(data_loader):\n",
        "    \n",
        "    optimizer.zero_grad()\n",
        "    image = batch[\"image\"].float().permute(0,3, 1,2).cuda()\n",
        "    image_mask = batch[\"mask\"].float().cuda()\n",
        "    if len(image_mask.shape)  == 1: continue\n",
        "\n",
        "    out = model(image)\n",
        "    out = out.squeeze(1)\n",
        "    out = out[:, :128, :128]\n",
        "    err = torch.nn.functional.binary_cross_entropy(out, image_mask)\n",
        "    err.backward()\n",
        "    optimizer.step()\n",
        "  print(e, err.item())\n",
        "    "
      ],
      "metadata": {
        "colab": {
          "base_uri": "https://localhost:8080/"
        },
        "id": "s3wl-WA0tSTF",
        "outputId": "1bf97416-bfd8-4d3b-a7ca-1e97b4f63fe2"
      },
      "execution_count": null,
      "outputs": [
        {
          "output_type": "stream",
          "name": "stdout",
          "text": [
            "0 5.853618621826172\n",
            "1 5.853602886199951\n",
            "2 5.8535895347595215\n",
            "3 5.853578090667725\n",
            "4 5.853568077087402\n",
            "5 5.853559494018555\n",
            "6 5.853551864624023\n",
            "7 5.853545665740967\n",
            "8 5.85353946685791\n",
            "9 5.85353422164917\n"
          ]
        }
      ]
    }
  ]
}